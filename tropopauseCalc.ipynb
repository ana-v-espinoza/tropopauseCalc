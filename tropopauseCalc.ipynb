{
 "cells": [
  {
   "cell_type": "markdown",
   "metadata": {},
   "source": [
    "https://github.com/NCAR/ncl/blob/develop/ni/src/lib/nfpfort/stattrop_dp.f#L197\n",
    "```\n",
    "c**********************************************************************\n",
    "\n",
    "      IMPLICIT NONE\n",
    "c                                                   ! INPUT\n",
    "      INTEGER NLEV,NLEVM\n",
    "      DOUBLE PRECISION PFULL(NLEV),TFULL(NLEV),TMSG,LAPSEC\n",
    "      DOUBLE PRECISION LAPSE(NLEVM),PHALF(NLEVM)\n",
    "c                                                   ! OUTPUT\n",
    "      DOUBLE PRECISION PTROP\n",
    "      INTEGER ITROP\n",
    "C NCLEND\n",
    "\n",
    "      DOUBLE PRECISION PMIN, PMAX, P1, P2, WEIGHT\n",
    "      DOUBLE PRECISION DELTAZ,P2KM,LAPSEAVG,LAPSESUM\n",
    "      DOUBLE PRECISION GRAV,RGAS,CONST,RINVAL\n",
    "      PARAMETER (GRAV=9.80665D0,RGAS=287.04D0\n",
    "     +          ,CONST=1000.D0*GRAV/RGAS)\n",
    "      INTEGER ILEV,ILEV1,KOUNT,L\n",
    "      LOGICAL FOUND\n",
    "\n",
    "      RINVAL = TMSG\n",
    "      PTROP = RINVAL\n",
    "      FOUND = .false.\n",
    "      ITROP = -999\n",
    "\n",
    "c c c do ilev=1,nlevm\n",
    "c c c     lapse(ilev) = tmsg\n",
    "c c c     phalf(ilev) = tmsg\n",
    "c c c end do\n",
    "\n",
    "c     deltaz is layer thickness used for second tropopause criterium\n",
    "c     pmin and pmax allowed tropopause pressure\n",
    "\n",
    "      DELTAZ = 2.D0\n",
    "      PMIN   = 85.D0\n",
    "      PMAX   = 450.D0\n",
    "\n",
    "c     Loop from model top to surface and calculate lapse rate gamma=-dT/dz (K/km)\n",
    "      DO ILEV = 1,NLEV - 1\n",
    "          ILEV1 = ILEV + 1\n",
    "          LAPSE(ILEV) = DLOG(TFULL(ILEV)) - DLOG(TFULL(ILEV1))\n",
    "          LAPSE(ILEV) = LAPSE(ILEV)/ (DLOG(PFULL(ILEV))-\n",
    "     +                  DLOG(PFULL(ILEV1)))\n",
    "          LAPSE(ILEV) = CONST*LAPSE(ILEV)\n",
    "          PHALF(ILEV) = (PFULL(ILEV)+PFULL(ILEV1))*0.5D0\n",
    "\n",
    "c c c    print *,ilev, lapse(ilev),  phalf(ilev)\n",
    "      END DO\n",
    "\n",
    "c     Loop from surface to top to find (lowest) tropopause\n",
    "\n",
    "      DO ILEV = NLEV - 2,1,-1\n",
    "c 1st test: -dT/dz less than 2 K/km and pressure LT pmax? ****\n",
    "          IF (LAPSE(ILEV).LT.LAPSEC .AND. PFULL(ILEV).LT.PMAX) THEN\n",
    "              IF (.NOT.FOUND) THEN\n",
    "c Interpolate tropopause pressure linearly in log(p)\n",
    "                  P1 = DLOG(PHALF(ILEV))\n",
    "                  P2 = DLOG(PHALF(ILEV+1))\n",
    "                  IF (LAPSE(ILEV).NE.LAPSE(ILEV+1)) THEN\n",
    "                      WEIGHT = (LAPSEC-LAPSE(ILEV))/\n",
    "     +                         (LAPSE(ILEV+1)-LAPSE(ILEV))\n",
    "c                                                ! tropopause pressure\n",
    "                      PTROP = EXP(P1+WEIGHT* (P2-P1))\n",
    "                  ELSE\n",
    "                      PTROP = PHALF(ILEV)\n",
    "                  END IF\n",
    "c 2nd test: average -dT/dz in layer deltaz above TP\n",
    "c           must not be greater than 2K/km\n",
    "c           press 2 km above TP\n",
    "                  P2KM = EXP(DLOG(PTROP)-DELTAZ*CONST/TFULL(ILEV))\n",
    "\n",
    "c init avg. lapse rate 2 km above TP\n",
    "                  LAPSESUM = 0.0D0\n",
    "                  LAPSEAVG = 1.D9\n",
    "\n",
    "                  KOUNT = 0\n",
    "                  DO L = ILEV,1,-1\n",
    "                      IF (PHALF(L).LT.P2KM) GO TO 100\n",
    "                      LAPSESUM = LAPSESUM + LAPSE(L)\n",
    "                      KOUNT = KOUNT + 1\n",
    "                      LAPSEAVG = LAPSESUM/KOUNT\n",
    "                  END DO\n",
    "  100             CONTINUE\n",
    "\n",
    "                  FOUND = LAPSEAVG .LT. LAPSEC\n",
    "c     Discard tropopause?\n",
    "                  IF (.NOT.FOUND) THEN\n",
    "                      PTROP = RINVAL\n",
    "                  ELSE\n",
    "c ptrop must be .ge. 85 hPa; assign level (layer) index\n",
    "                      PTROP = MAX(PTROP,PMIN)\n",
    "                      ITROP = ILEV\n",
    "                  END IF\n",
    "              END IF\n",
    "          END IF\n",
    "      END DO\n",
    "\n",
    "c c c if (.not.found) then\n",
    "c c c    write(*,*)\n",
    "c c c&       'STATTROP-warning: no static tropopause found:'\n",
    "c c c    write(*,*) 'phalf:', phalf\n",
    "c c c    write(*,*) 'lapse:', lapse\n",
    "c c c end if\n",
    "\n",
    "      RETURN\n",
    "      END\n",
    "```"
   ]
  },
  {
   "cell_type": "markdown",
   "metadata": {},
   "source": [
    "## Variable Definitions"
   ]
  },
  {
   "cell_type": "code",
   "execution_count": null,
   "metadata": {},
   "outputs": [],
   "source": [
    "# INPUTS\n",
    "\n",
    "# nLev -- Total number of points in sounding data\n",
    "# nLevm -- (nLev-1) Total number of \"middle\" points\n",
    "\n",
    "# pFull -- (nLev x 1) Full pressure array from sounding\n",
    "# TFull -- (nLev x 1) Full temperature array from sounding\n",
    "# lapseC -- Lapse rate threshold (default to 2K/km)\n",
    "\n",
    "# lapse -- (nLevm x 1) array of calculated lapse rates\n",
    "# pHalf -- (nLevm x 1) array of average pressure between pFull elements\n",
    "\n",
    "# OUTPUTS\n",
    "# pTrop -- Calculated height of trop\n",
    "iTrop = -999 # Index of layer containing trop height in sounding arrays"
   ]
  },
  {
   "cell_type": "code",
   "execution_count": 2,
   "metadata": {},
   "outputs": [],
   "source": [
    "# Variables defined within the scope of our function\n",
    "\n",
    "pMin = 85.0 # (mb or hPa) Lowest pressure to assign trop\n",
    "pMax = 450.0 # (mb or hPa) Highest pressure to assign trop\n",
    "# p1 -- Used when linearly interpolating in log(p) to find trop height\n",
    "# p2 -- Used when linearly interpolating in log(p) to find trop height\n",
    "# weight -- Used when linearly interpolating in log(p) to find trop height\n",
    "\n",
    "dZ = 2.0 # (km) Height at which to check average lapse rate above trop\n",
    "# p2km -- Pressure 2 km above trop (for use in calculating average lapse rate a height dZ above pTrop)\n",
    "# lapseAvg -- Used when calculating the average lapse rate\n",
    "# lapseSum -- Used when calculating the average lapse rate\n",
    "# kount -- Used when calculating the average lapse rate\n",
    "# L -- Used to iterate when calculating the average lapse rate, we won't use this since we're using numpy functions to work with arrays?\n",
    "\n",
    "# iLev -- Used to iterate through pFull and TFull, we probably won't use this since we're using numpy functions to work with arrays?\n",
    "# iLev1 -- iLev + 1\n",
    "\n",
    "grav = 9.80665 # Gravity (m/s-2)\n",
    "R = 287.0 # Ideal gas constant (J/K)\n",
    "const = 1000.0*grav/R # constant for use in hypsometric equation; factor of 1000 to convert from m to km\n",
    "\n",
    "found = False # Keep track of whether we've found trop height"
   ]
  },
  {
   "cell_type": "markdown",
   "metadata": {},
   "source": [
    "## Loop 1 (lines 155 - 165)\n",
    "Calculate lapse rate using 2 point forward difference (can use numpy array syntax for this like Eric suggested in checkpoint 1)"
   ]
  },
  {
   "cell_type": "code",
   "execution_count": null,
   "metadata": {},
   "outputs": [],
   "source": [#155 - 165
#loop from model top to surface and calculate lapse rate 
# gamma = -dT/dz (K/km)
for : #need information here for loop...
    ILEV = 1
    NLEV = NLEV-1
    LAPSE(ILEV) = DLOG(TFULL(ILEV))-DLOG(TFULL(ILEV1))
    LAPSE(ILEV) = LAPSE(ILEV)/(DLOG(PFULL(ILEV))-DLOG(PFULL(ILEV1)))
    
    LAPSE(ILEV)=CONST*LAPSE(ILEV)
    PHALF(ILEV)=(PFULL(ILEV)+PFULL(ILEV1))*0.5D0]
  },
  {
   "cell_type": "markdown",
   "metadata": {},
   "source": [
    "## Loop 2 (169 - 183)\n",
    "Interpolate linearly in log(p) to calculate tropopause height"
   ]
  },
  {
   "cell_type": "code",
   "execution_count": null,
   "metadata": {},
   "outputs": [],
   "source": []
  },
  {
   "cell_type": "markdown",
   "metadata": {},
   "source": [
    "## Loop 3 (187- 199)\n",
    "Check for average lapse rate 2km above tropopause and check if it is less than the threshold\n",
    "(Can also be done using numpy stuff I think)"
   ]
  },
  {
   "cell_type": "code",
   "execution_count": null,
   "metadata": {},
   "outputs": [],
   "source": []
  },
  {
   "cell_type": "markdown",
   "metadata": {},
   "source": [
    "## Loop 4 (203 - 209)\n",
    "If no tropopause is found, set it to some default value (??? See line 96 ???)\n",
    "Also check whether it falls within the range of pMin and pMax"
   ]
  },
  {
   "cell_type": "code",
   "execution_count": null,
   "metadata": {},
   "outputs": [],
   "source": []
  },
  {
   "cell_type": "markdown",
   "metadata": {},
   "source": [
    "# We're done!"
   ]
  },
  {
   "cell_type": "code",
   "execution_count": null,
   "metadata": {},
   "outputs": [],
   "source": []
  }
 ],
 "metadata": {
  "kernelspec": {
   "display_name": "Python 3",
   "language": "python",
   "name": "python3"
  },
  "language_info": {
   "codemirror_mode": {
    "name": "ipython",
    "version": 3
   },
   "file_extension": ".py",
   "mimetype": "text/x-python",
   "name": "python",
   "nbconvert_exporter": "python",
   "pygments_lexer": "ipython3",
   "version": "3.6.9"
  }
 },
 "nbformat": 4,
 "nbformat_minor": 4
}
