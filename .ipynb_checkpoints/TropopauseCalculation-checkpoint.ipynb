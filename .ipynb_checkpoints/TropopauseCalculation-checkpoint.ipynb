{
 "cells": [
  {
   "cell_type": "code",
   "execution_count": 1,
   "metadata": {},
   "outputs": [],
   "source": [
    "## Introduction\n",
    "from matplotlib import pyplot as plt\n",
    "import numpy as np"
   ]
  },
  {
   "cell_type": "code",
   "execution_count": null,
   "metadata": {},
   "outputs": [],
   "source": []
  },
  {
   "cell_type": "code",
   "execution_count": null,
   "metadata": {},
   "outputs": [],
   "source": [
    "## # INPUTS\n",
    "\n",
    "# nLev -- Total number of points in sounding data\n",
    "# nLevm -- (nLev-1) Total number of \"middle\" points\n",
    "\n",
    "# pFull -- (nLev x 1) Full pressure array from sounding\n",
    "# TFull -- (nLev x 1) Full temperature array from sounding\n",
    "# lapseC -- Lapse rate threshold (default to 2K/km)\n",
    "\n",
    "# lapse -- (nLevm x 1) array of calculated lapse rates\n",
    "# pHalf -- (nLevm x 1) array of average pressure between pFull elements\n",
    "\n",
    "# OUTPUTS\n",
    "# pTrop -- Calculated height of trop\n",
    "iTrop = -999 # Index of layer containing trop height in sounding arrays\n"
   ]
  },
  {
   "cell_type": "code",
   "execution_count": null,
   "metadata": {},
   "outputs": [],
   "source": [
    "# Variables defined within the scope of our function\n",
    "\n",
    "pMin = 85.0 # (mb or hPa) Lowest pressure to assign trop\n",
    "pMax = 450.0 # (mb or hPa) Highest pressure to assign trop\n",
    "# p1 -- Used when linearly interpolating in log(p) to find trop height\n",
    "# p2 -- Used when linearly interpolating in log(p) to find trop height\n",
    "# weight -- Used when linearly interpolating in log(p) to find trop height\n",
    "\n",
    "dZ = 2.0 # (km) Height at which to check average lapse rate above trop\n",
    "# p2km -- Pressure 2 km above trop (for use in calculating average lapse rate a height dZ above pTrop)\n",
    "# lapseAvg -- Used when calculating the average lapse rate\n",
    "# lapseSum -- Used when calculating the average lapse rate\n",
    "# kount -- Used when calculating the average lapse rate\n",
    "# L -- Used to iterate when calculating the average lapse rate, we won't use this since we're using numpy functions to work with arrays?\n",
    "\n",
    "# iLev -- Used to iterate through pFull and TFull, we probably won't use this since we're using numpy functions to work with arrays?\n",
    "# iLev1 -- iLev + 1\n",
    "\n",
    "grav = 9.80665 # Gravity (m/s-2)\n",
    "R = 287.0 # Ideal gas constant (J/K)\n",
    "const = 1000.0*grav/R # constant for use in hypsometric equation; factor of 1000 to convert from m to km\n",
    "\n",
    "found = False # Keep track of whether we've found trop height"
   ]
  },
  {
   "cell_type": "code",
   "execution_count": 3,
   "metadata": {},
   "outputs": [
    {
     "ename": "NameError",
     "evalue": "name 'nLev' is not defined",
     "output_type": "error",
     "traceback": [
      "\u001b[1;31m---------------------------------------------------------------------------\u001b[0m",
      "\u001b[1;31mNameError\u001b[0m                                 Traceback (most recent call last)",
      "\u001b[1;32m<ipython-input-3-225bc13e018c>\u001b[0m in \u001b[0;36m<module>\u001b[1;34m\u001b[0m\n\u001b[0;32m      2\u001b[0m \u001b[1;31m#loop from model top to surface and calculate lapse rate\u001b[0m\u001b[1;33m\u001b[0m\u001b[1;33m\u001b[0m\u001b[1;33m\u001b[0m\u001b[0m\n\u001b[0;32m      3\u001b[0m \u001b[1;31m# gamma = -dT/dz (K/km)\u001b[0m\u001b[1;33m\u001b[0m\u001b[1;33m\u001b[0m\u001b[1;33m\u001b[0m\u001b[0m\n\u001b[1;32m----> 4\u001b[1;33m \u001b[1;32mfor\u001b[0m \u001b[0miLev\u001b[0m \u001b[1;32min\u001b[0m \u001b[0mrange\u001b[0m\u001b[1;33m(\u001b[0m\u001b[1;36m0\u001b[0m\u001b[1;33m,\u001b[0m \u001b[0mnLev\u001b[0m\u001b[1;33m)\u001b[0m\u001b[1;33m:\u001b[0m \u001b[1;31m#need information here for loop...\u001b[0m\u001b[1;33m\u001b[0m\u001b[1;33m\u001b[0m\u001b[0m\n\u001b[0m\u001b[0;32m      5\u001b[0m     \u001b[0mLapse\u001b[0m\u001b[1;33m[\u001b[0m\u001b[0miLev\u001b[0m\u001b[1;33m]\u001b[0m \u001b[1;33m=\u001b[0m \u001b[0mnp\u001b[0m\u001b[1;33m.\u001b[0m\u001b[0mlog\u001b[0m\u001b[1;33m(\u001b[0m\u001b[0mTFull\u001b[0m\u001b[1;33m[\u001b[0m\u001b[0miLev\u001b[0m\u001b[1;33m]\u001b[0m\u001b[1;33m)\u001b[0m\u001b[1;33m-\u001b[0m\u001b[0mnp\u001b[0m\u001b[1;33m.\u001b[0m\u001b[0mlog\u001b[0m\u001b[1;33m(\u001b[0m\u001b[0mTFull\u001b[0m\u001b[1;33m[\u001b[0m\u001b[0miLev\u001b[0m\u001b[1;33m+\u001b[0m\u001b[1;36m1\u001b[0m\u001b[1;33m]\u001b[0m\u001b[1;33m)\u001b[0m\u001b[1;33m\u001b[0m\u001b[1;33m\u001b[0m\u001b[0m\n\u001b[0;32m      6\u001b[0m     \u001b[0mLapse\u001b[0m\u001b[1;33m[\u001b[0m\u001b[0miLev\u001b[0m\u001b[1;33m]\u001b[0m \u001b[1;33m=\u001b[0m \u001b[0mLapse\u001b[0m\u001b[1;33m[\u001b[0m\u001b[0miLev\u001b[0m\u001b[1;33m]\u001b[0m\u001b[1;33m/\u001b[0m\u001b[1;33m(\u001b[0m\u001b[0mnp\u001b[0m\u001b[1;33m.\u001b[0m\u001b[0mlog\u001b[0m\u001b[1;33m(\u001b[0m\u001b[0mPFull\u001b[0m\u001b[1;33m[\u001b[0m\u001b[0miLev\u001b[0m\u001b[1;33m]\u001b[0m\u001b[1;33m)\u001b[0m\u001b[1;33m-\u001b[0m\u001b[0mnp\u001b[0m\u001b[1;33m.\u001b[0m\u001b[0mlog\u001b[0m\u001b[1;33m(\u001b[0m\u001b[0mPFull\u001b[0m\u001b[1;33m[\u001b[0m\u001b[0miLev\u001b[0m\u001b[1;33m+\u001b[0m\u001b[1;36m1\u001b[0m\u001b[1;33m]\u001b[0m\u001b[1;33m)\u001b[0m\u001b[1;33m)\u001b[0m\u001b[1;33m\u001b[0m\u001b[1;33m\u001b[0m\u001b[0m\n",
      "\u001b[1;31mNameError\u001b[0m: name 'nLev' is not defined"
     ]
    }
   ],
   "source": [
    "#155 - 165\n",
    "#loop from model top to surface and calculate lapse rate \n",
    "# gamma = -dT/dz (K/km)\n",
    "for iLev in range(0, nLev): #need information here for loop...\n",
    "    lapse[iLev] = np.log(TFull[iLev])-np.log(TFull[iLev+1])\n",
    "    lapse[iLev] = lapse[iLev]/(np.log(pFull[iLev])-np.log(pFull[iLev+1]))\n",
    "    \n",
    "    lapse[iLev]=CONST*lapse[iLev]\n",
    "    pHalf[iLev]=(pFull[iLev]+pFull[iLev1])*0.5"
   ]
  },
  {
   "cell_type": "code",
   "execution_count": null,
   "metadata": {},
   "outputs": [],
   "source": [
    "#166-183\n",
    "#loop from surface to top to find lowest tropopause\n",
    "for iLev in range(0,nLevm): #need informatinformation here for loop\n",
    "    if (lapse[iLev] < lapseC) & (pFull[iLev] < PMAX):\n",
    "        if (FOUND == 0):\n",
    "            P1 = np.log(pHalf[iLev])\n",
    "            P2 = np.log(pHalf[iLev+1])\n",
    "            if (lapse(iLev) != lapse[iLev+1]):\n",
    "                weight = (lapseC-lapse[iLev])/(lapse[iLev+1]-lapse[iLev])\n",
    "                \n",
    "                #tropopause pressure\n",
    "                pTrop = np.exp(P1+weight*(P2-P1))\n",
    "            else:\n",
    "                pTrop = pTrop[iLev]"
   ]
  },
  {
   "cell_type": "markdown",
   "metadata": {},
   "source": [
    "Loop 3 (187- 199)\n",
    "Check for average lapse rate 2km above tropopause and check if it is less than the threshold (Can also be done using numpy stuff I think)"
   ]
  },
  {
   "cell_type": "code",
   "execution_count": null,
   "metadata": {},
   "outputs": [],
   "source": [
    "p2km = np.exp(np.log(pTrop)-dZ*const/TFull[iLev])\n",
    "\n",
    "lapseAvg = 0 \n",
    "lapseSum = 0 \n",
    "kount = 0 \n",
    "for L in range (iLev,nLevm):\n",
    "    if pHalf[L] > p2Km:\n",
    "        lapseAvg = lapseSum + lapse[L]\n",
    "        kount = kount + 1\n",
    "        lapseAvg = lapseSum/kount\n",
    "FOUND = lapseAvg < lapseC\n",
    "if not FOUND:\n",
    "    print (\"Tropopause not found\")\n",
    "else:\n",
    "    pTrop=np.max([pTrop,pMin])\n",
    "    print (\"Tropopause Altitude: \", pTrop)\n",
    "    \n",
    "\n",
    "    "
   ]
  },
  {
   "cell_type": "code",
   "execution_count": null,
   "metadata": {},
   "outputs": [],
   "source": []
  }
 ],
 "metadata": {
  "kernelspec": {
   "display_name": "Python 3",
   "language": "python",
   "name": "python3"
  },
  "language_info": {
   "codemirror_mode": {
    "name": "ipython",
    "version": 3
   },
   "file_extension": ".py",
   "mimetype": "text/x-python",
   "name": "python",
   "nbconvert_exporter": "python",
   "pygments_lexer": "ipython3",
   "version": "3.7.8"
  }
 },
 "nbformat": 4,
 "nbformat_minor": 4
}
