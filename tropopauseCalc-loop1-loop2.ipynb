{
 "cells": [
  {
   "cell_type": "code",
   "execution_count": null,
   "metadata": {},
   "outputs": [],
   "source": [
    "import numpy as np"
   ]
  },
  {
   "cell_type": "code",
   "execution_count": null,
   "metadata": {},
   "outputs": [],
   "source": [
    "#155 - 165\n",
    "#loop from model top to surface and calculate lapse rate \n",
    "# gamma = -dT/dz (K/km)\n",
    "for : #need information here for loop...\n",
    "    ILEV = 1\n",
    "    NLEV = NLEV-1\n",
    "    LAPSE(ILEV) = DLOG(TFULL(ILEV))-DLOG(TFULL(ILEV1))\n",
    "    LAPSE(ILEV) = LAPSE(ILEV)/(DLOG(PFULL(ILEV))-DLOG(PFULL(ILEV1)))\n",
    "    \n",
    "    LAPSE(ILEV)=CONST*LAPSE(ILEV)\n",
    "    PHALF(ILEV)=(PFULL(ILEV)+PFULL(ILEV1))*0.5D0"
   ]
  },
  {
   "cell_type": "code",
   "execution_count": null,
   "metadata": {},
   "outputs": [],
   "source": [
    "#166-183\n",
    "#loop from surface to top to find lowest tropopause\n",
    "for : #need informatinformation here for loop\n",
    "    ILEV=NLEV -2,1,-1\n",
    "    if (LAPSE(ILEV) < LAPSEC) & (PFULL(ILEV) < PMAX):\n",
    "        if (FOUND == 0):\n",
    "            P1 = DLOG(PHALF(ILEV))\n",
    "            P2 = DLOG(PHALF(ILEV+1))\n",
    "            if (LAPSE(ILEV) != LAPSE(ILEV+1)):\n",
    "                WEIGHT = (LAPSEC-LAPSE(ILEV))/(LAPSE(ILEV+1)-LAPSE(ILEV))\n",
    "                \n",
    "                #tropopause pressure\n",
    "                PTROP = np.exp(P1+WEIGHT*(P2-P1))\n",
    "            else\n",
    "                PTROP = PHALF(ILEV)"
   ]
  }
 ],
 "metadata": {
  "kernelspec": {
   "display_name": "Python 3",
   "language": "python",
   "name": "python3"
  },
  "language_info": {
   "codemirror_mode": {
    "name": "ipython",
    "version": 3
   },
   "file_extension": ".py",
   "mimetype": "text/x-python",
   "name": "python",
   "nbconvert_exporter": "python",
   "pygments_lexer": "ipython3",
   "version": "3.8.3"
  }
 },
 "nbformat": 4,
 "nbformat_minor": 4
}
